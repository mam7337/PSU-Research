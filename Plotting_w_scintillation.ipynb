{
 "metadata": {
  "language_info": {
   "codemirror_mode": {
    "name": "ipython",
    "version": 3
   },
   "file_extension": ".py",
   "mimetype": "text/x-python",
   "name": "python",
   "nbconvert_exporter": "python",
   "pygments_lexer": "ipython3",
   "version": "3.7.7-final"
  },
  "orig_nbformat": 2,
  "kernelspec": {
   "name": "python3",
   "display_name": "Python 3.7.7 64-bit ('base': conda)",
   "metadata": {
    "interpreter": {
     "hash": "ad3444dd9453f68451f1f74f546380192e17c599106fbfd1b5c725ff2ebf240d"
    }
   }
  }
 },
 "nbformat": 4,
 "nbformat_minor": 2,
 "cells": [
  {
   "cell_type": "code",
   "execution_count": 8,
   "metadata": {},
   "outputs": [],
   "source": [
    "#import all packages\n",
    "\n",
    "import pandas as pd\n",
    "import matplotlib.pyplot as plt\n",
    "import numpy as np\n",
    "import re\n",
    "import glob\n",
    "import os"
   ]
  },
  {
   "cell_type": "code",
   "execution_count": 9,
   "metadata": {},
   "outputs": [],
   "source": [
    "#insert foldernames\n",
    "\n",
    "FOLDERNAMES = [r'C:\\Users\\Marissa\\Desktop\\Research\\Transits\\ARCTIC\\20191202_GJ3470\\0_RESULTS\\27_60_90_BEST\\Best_Reduction']\n",
    "dfs=[]\n",
    "\n",
    "for i, FOLDERNAME in enumerate(FOLDERNAMES):\n",
    "    os.path.abspath(FOLDERNAME)\n",
    "    regex = \"*.xls\"\n",
    "    files = glob.glob(os.path.join(FOLDERNAME,regex))\n",
    "    listToStr = ''.join(map(str, files))\n",
    "    dfs = pd.read_csv(listToStr, sep='\\t')\n",
    "\n"
   ]
  },
  {
   "cell_type": "code",
   "execution_count": 13,
   "metadata": {},
   "outputs": [],
   "source": [
    "#Define all the variables \n",
    "\n",
    "ref_stars = [col for col in dfs.columns if 'rel_flux_C' in col]\n",
    "n_e = len(ref_stars)\n",
    "#Diameter for ARCTIC\n",
    "diameter = 3.5*100\n",
    "#Enter exposure time in  seconds (t)\n",
    "exptime = dfs['EXPTIME']\n",
    "#Enter airmass of observations (X)\n",
    "airmass = dfs['AIRMASS']\n",
    "#Altitude for ARCTIC\n",
    "altitude = 2781.\n",
    "\n",
    "#Normalize Rel_Flux_T1 and Rel_Flux_err_T1\n",
    "\n",
    "med = np.median(dfs['rel_flux_T1'])\n",
    "mean = np.mean(dfs['rel_flux_T1'])\n",
    "norm_flux = dfs['rel_flux_T1'] / med\n",
    "norm_flux_err = dfs['rel_flux_err_T1'] / med\n"
   ]
  },
  {
   "cell_type": "code",
   "execution_count": 17,
   "metadata": {},
   "outputs": [],
   "source": [
    "#write a function that calculates scint error\n",
    "def calculate_scint_error(diameter, exptime, airmass, altitude, refstars=n_e):\n",
    "    sig_s = 0.09 * (diameter ** (-2./3.)) * (airmass ** (1.75)) * ((2. * exptime) ** -0.5) * np.exp(-altitude/8000.)\n",
    "    sig_scint = 1.5 * sig_s * (1 + 1/(refstars)) ** (1/2)\n",
    "    sig_total = ((norm_flux_err) ** 2 + (sig_scint) ** 2) ** (1/2)\n",
    "    print(sig_total)\n",
    "\n",
    "    "
   ]
  },
  {
   "cell_type": "code",
   "execution_count": 18,
   "metadata": {},
   "outputs": [
    {
     "output_type": "stream",
     "name": "stdout",
     "text": [
      "0      0.001011\n1      0.001009\n2      0.001007\n3      0.001005\n4      0.001003\n         ...   \n558    0.000644\n559    0.000929\n560    0.000804\n561    0.000681\n562    0.000659\nLength: 563, dtype: float64\n"
     ]
    }
   ],
   "source": [
    "calculate_scint_error(diameter, exptime, airmass, altitude, refstars=n_e)"
   ]
  },
  {
   "cell_type": "code",
   "execution_count": null,
   "metadata": {},
   "outputs": [],
   "source": []
  }
 ]
}