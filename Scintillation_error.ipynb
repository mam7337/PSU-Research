{
 "metadata": {
  "language_info": {
   "codemirror_mode": {
    "name": "ipython",
    "version": 3
   },
   "file_extension": ".py",
   "mimetype": "text/x-python",
   "name": "python",
   "nbconvert_exporter": "python",
   "pygments_lexer": "ipython3",
   "version": "3.7.7-final"
  },
  "orig_nbformat": 2,
  "kernelspec": {
   "name": "python3",
   "display_name": "Python 3",
   "language": "python"
  }
 },
 "nbformat": 4,
 "nbformat_minor": 2,
 "cells": [
  {
   "cell_type": "code",
   "execution_count": 1,
   "metadata": {},
   "outputs": [],
   "source": [
    "#import pertinent packages\n",
    "import pandas as pd\n",
    "import math\n",
    "import numpy as np\n",
    "import os\n",
    "import glob"
   ]
  },
  {
   "source": [
    "#Insert folder name with csv file that you wish to calculate total error for\n",
    "FOLDERNAME = os.path.abspath(r'''C:\\Users\\Marissa\\Desktop\\Research\\Transits\\TMMT\\TOI-532\\20201215_TOI-532\\0_results\\5_20_30\\Best_Reduction''')\n",
    "regex = \"*.xls\"\n",
    "files = glob.glob(os.path.join(FOLDERNAME,regex))\n",
    "listToStr = ''.join(map(str, files))\n",
    "df = pd.read_csv(listToStr, sep='\\t')"
   ],
   "cell_type": "code",
   "metadata": {},
   "execution_count": 2,
   "outputs": []
  },
  {
   "cell_type": "code",
   "execution_count": 3,
   "metadata": {},
   "outputs": [],
   "source": [
    "#Enter diameter (D) of telescope in cm (true for both TMMT/LCOBOT)\n",
    "D = 0.3*100 \n",
    "#Enter exposure time in  seconds (t)\n",
    "t = df['EXPTIME']\n",
    "#Enter airmass of observations (X)\n",
    "X = df['AIRMASS']\n",
    "#Enter altitude of telescope in meters (h) (true for both TMMT/LCOBOT)\n",
    "h = 2286"
   ]
  },
  {
   "cell_type": "code",
   "execution_count": 4,
   "metadata": {
    "tags": []
   },
   "outputs": [],
   "source": [
    "#Calculate the expected scintillation noise for a given star\n",
    "sig_s = 0.09 * D ** (-2/3) * X ** (1.75) * (2 * t) ** (-1/2 * (math.e) ** (-h/8000))"
   ]
  },
  {
   "cell_type": "code",
   "execution_count": 5,
   "metadata": {},
   "outputs": [
    {
     "output_type": "stream",
     "name": "stdout",
     "text": [
      "9\n"
     ]
    }
   ],
   "source": [
    "#Calculates number of reference stars\n",
    "ref_stars = [col for col in df.columns if 'rel_flux_C' in col]\n",
    "n_e = len(ref_stars)\n",
    "print(n_e)\n",
    "#Calculates the scintillation error\n",
    "\n",
    "sig_scint = 1.5 * sig_s * (1 + 1/(n_e)) ** (1/2)"
   ]
  },
  {
   "cell_type": "code",
   "execution_count": 6,
   "metadata": {},
   "outputs": [],
   "source": [
    "#Calculates the total error including scintillation\n",
    "\n",
    "sig_total = ((df['rel_flux_err_T1']) ** 2 + (sig_scint) ** 2) ** (1/2)"
   ]
  },
  {
   "cell_type": "code",
   "execution_count": 7,
   "metadata": {},
   "outputs": [
    {
     "output_type": "stream",
     "name": "stdout",
     "text": [
      "<bound method NDFrame.head of                                              Label  slice     Saturated  \\\n0      1  Processed_l20201215-015706-TOI-532-I.fit    0.0  68637.429688   \n1      2  Processed_l20201215-015926-TOI-532-I.fit    0.0  68387.898438   \n2      3  Processed_l20201215-020144-TOI-532-I.fit    0.0  67780.695312   \n3      4  Processed_l20201215-020402-TOI-532-I.fit    0.0  67748.734375   \n4      5  Processed_l20201215-020621-TOI-532-I.fit    0.0  68170.812500   \n..   ...                                       ...    ...           ...   \n165  166  Processed_l20201215-082126-TOI-532-I.fit    0.0      0.000000   \n166  167  Processed_l20201215-082345-TOI-532-I.fit    0.0      0.000000   \n167  168  Processed_l20201215-082604-TOI-532-I.fit    0.0  63367.082031   \n168  169  Processed_l20201215-082822-TOI-532-I.fit    0.0  67136.523438   \n169  170  Processed_l20201215-083037-TOI-532-I.fit    0.0  66280.468750   \n\n     J.D.-2400000        JD_UTC       JD_SOBS       HJD_UTC      BJD(TDB)  \\\n0    59198.582014  2.459199e+06  2.459199e+06  2.459199e+06  2.459199e+06   \n1    59198.583634  2.459199e+06  2.459199e+06  2.459199e+06  2.459199e+06   \n2    59198.585231  2.459199e+06  2.459199e+06  2.459199e+06  2.459199e+06   \n3    59198.586829  2.459199e+06  2.459199e+06  2.459199e+06  2.459199e+06   \n4    59198.588437  2.459199e+06  2.459199e+06  2.459199e+06  2.459199e+06   \n..            ...           ...           ...           ...           ...   \n165  59198.848912  2.459199e+06  2.459199e+06  2.459199e+06  2.459199e+06   \n166  59198.850521  2.459199e+06  2.459199e+06  2.459199e+06  2.459199e+06   \n167  59198.852130  2.459199e+06  2.459199e+06  2.459199e+06  2.459199e+06   \n168  59198.853727  2.459199e+06  2.459199e+06  2.459199e+06  2.459199e+06   \n169  59198.855289  2.459199e+06  2.459199e+06  2.459199e+06  2.459199e+06   \n\n      AIRMASS  ...  Source_SNR_T45  Peak_T45  Mean_T45  Sky/Pixel_T45  \\\n0    1.859417  ...             NaN       0.0       0.0            0.0   \n1    1.839498  ...             NaN       0.0       0.0            0.0   \n2    1.820490  ...             NaN       0.0       0.0            0.0   \n3    1.802079  ...             NaN       0.0       0.0            0.0   \n4    1.784117  ...             NaN       0.0       0.0            0.0   \n..        ...  ...             ...       ...       ...            ...   \n165  2.442130  ...             NaN       0.0       0.0            0.0   \n166  2.484476  ...             NaN       0.0       0.0            0.0   \n167  2.528626  ...             NaN       0.0       0.0            0.0   \n168  2.574349  ...             NaN       0.0       0.0            0.0   \n169  2.621011  ...             NaN       0.0       0.0            0.0   \n\n     Width_T45  X-Width_T45  Y-Width_T45  Angle_T45  Roundness_T45  \\\n0          0.0          0.0          0.0        0.0            1.0   \n1          0.0          0.0          0.0        0.0            1.0   \n2          0.0          0.0          0.0        0.0            1.0   \n3          0.0          0.0          0.0        0.0            1.0   \n4          0.0          0.0          0.0        0.0            1.0   \n..         ...          ...          ...        ...            ...   \n165        0.0          0.0          0.0        0.0            1.0   \n166        0.0          0.0          0.0        0.0            1.0   \n167        0.0          0.0          0.0        0.0            1.0   \n168        0.0          0.0          0.0        0.0            1.0   \n169        0.0          0.0          0.0        0.0            1.0   \n\n     Total_error  \n0       0.005574  \n1       0.005470  \n2       0.005372  \n3       0.005277  \n4       0.005186  \n..           ...  \n165     0.008974  \n166     0.009248  \n167     0.009537  \n168     0.009841  \n169     0.010155  \n\n[170 rows x 922 columns]>\n"
     ]
    }
   ],
   "source": [
    "#Adds a new column to the end of excel sheet with total error from rel_flux_T1 and scintillation noise added in quadrature\n",
    "df.insert(len(df.columns), \"Total_error\", sig_total)\n",
    "print(df.head)"
   ]
  },
  {
   "cell_type": "code",
   "execution_count": 8,
   "metadata": {},
   "outputs": [],
   "source": [
    "#Creates a new csv file with title editted to include w_tot_error\n",
    "strip_regex = listToStr.rstrip('.xls')\n",
    "df.to_csv(strip_regex +'_w_tot_error.xls', sep='\\t', index=False)"
   ]
  },
  {
   "cell_type": "code",
   "execution_count": null,
   "metadata": {},
   "outputs": [],
   "source": []
  }
 ]
}