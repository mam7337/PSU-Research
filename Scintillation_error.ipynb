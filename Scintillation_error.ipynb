{
 "metadata": {
  "language_info": {
   "codemirror_mode": {
    "name": "ipython",
    "version": 3
   },
   "file_extension": ".py",
   "mimetype": "text/x-python",
   "name": "python",
   "nbconvert_exporter": "python",
   "pygments_lexer": "ipython3",
   "version": "3.7.7-final"
  },
  "orig_nbformat": 2,
  "kernelspec": {
   "name": "python3",
   "display_name": "Python 3",
   "language": "python"
  }
 },
 "nbformat": 4,
 "nbformat_minor": 2,
 "cells": [
  {
   "cell_type": "code",
   "execution_count": 1,
   "metadata": {},
   "outputs": [],
   "source": [
    "import pandas as pd\n",
    "import math\n",
    "import numpy as np\n",
    "import os\n",
    "import glob"
   ]
  },
  {
   "source": [
    "#Insert folder name with csv file that you wish to calculate total error for\n",
    "FOLDERNAME = os.path.abspath(r'''C:\\Users\\Marissa\\Desktop\\Research\\Transits\\TMMT\\TOI-532\\20201215_TOI-532\\0_results\\5_9_14_trim_first_15_pts\\remove_1_outlier''')\n",
    "regex = \"*.xls\"\n",
    "files = glob.glob(os.path.join(FOLDERNAME,regex))\n",
    "listToStr = ''.join(map(str, files))\n",
    "df = pd.read_csv(listToStr, sep='\\t')"
   ],
   "cell_type": "code",
   "metadata": {},
   "execution_count": 2,
   "outputs": []
  },
  {
   "cell_type": "code",
   "execution_count": 3,
   "metadata": {},
   "outputs": [],
   "source": [
    "#Enter diameter (D) of telescope in cm (true for both TMMT/LCOBOT)\n",
    "D = 0.3*100 \n",
    "#Enter exposure time in  seconds (t)\n",
    "t = df['EXPTIME']\n",
    "#Enter airmass of observations (X)\n",
    "X = df['AIRMASS']\n",
    "#Enter altitude of telescope in meters (h) (true for both TMMT/LCOBOT)\n",
    "h = 2286"
   ]
  },
  {
   "cell_type": "code",
   "execution_count": 4,
   "metadata": {
    "tags": []
   },
   "outputs": [],
   "source": [
    "#Calculate the expected scintillation noise for a given star\n",
    "sig_s = 0.09 * D ** (-2/3) * X ** (1.75) * (2 * t) ** (-1/2 * (math.e) ** (-h/8000))"
   ]
  },
  {
   "cell_type": "code",
   "execution_count": 5,
   "metadata": {},
   "outputs": [],
   "source": [
    "#Calculates number of reference stars\n",
    "ref_stars = [col for col in df.columns if 'rel_flux_C' in col]\n",
    "n_e = len(ref_stars)\n",
    "\n",
    "#Calculates the scintillation error\n",
    "\n",
    "sig_scint = 1.5 * sig_s * (1 + 1/(n_e)) ** (1/2)"
   ]
  },
  {
   "cell_type": "code",
   "execution_count": 6,
   "metadata": {},
   "outputs": [],
   "source": [
    "#Calculates the total error including scintillation\n",
    "\n",
    "sig_total = ((df['rel_flux_T1']) ** 2 + (sig_scint) ** 2) ** (1/2)"
   ]
  },
  {
   "cell_type": "code",
   "execution_count": 7,
   "metadata": {},
   "outputs": [
    {
     "output_type": "stream",
     "name": "stdout",
     "text": [
      "<bound method NDFrame.head of                                              Label  slice    Saturated  \\\n0      1  Processed_l20201215-012218-TOI-532-I.fit      0  73615.76563   \n1      2  Processed_l20201215-012437-TOI-532-I.fit      0  73658.66406   \n2      3  Processed_l20201215-012655-TOI-532-I.fit      0  72159.67969   \n3      4  Processed_l20201215-012915-TOI-532-I.fit      0  72080.29688   \n4      5  Processed_l20201215-013133-TOI-532-I.fit      0  72081.82031   \n..   ...                                       ...    ...          ...   \n186  187  Processed_l20201215-083252-TOI-532-I.fit      0  70817.24219   \n187  188  Processed_l20201215-083507-TOI-532-I.fit      0  70814.72656   \n188  189  Processed_l20201215-083723-TOI-532-I.fit      0  70813.41406   \n189  190  Processed_l20201215-083938-TOI-532-I.fit      0  70901.05469   \n190  191  Processed_l20201215-084153-TOI-532-I.fit      0  70810.03125   \n\n     J.D.-2400000       JD_UTC      JD_SOBS      HJD_UTC     BJD(TDB)  \\\n0     59198.55786  2459198.558  2459198.557  2459198.563  2459198.564   \n1     59198.55946  2459198.559  2459198.559  2459198.565  2459198.566   \n2     59198.56105  2459198.561  2459198.560  2459198.567  2459198.567   \n3     59198.56267  2459198.563  2459198.562  2459198.568  2459198.569   \n4     59198.56427  2459198.564  2459198.564  2459198.570  2459198.571   \n..            ...          ...          ...          ...          ...   \n186   59198.85685  2459198.857  2459198.856  2459198.862  2459198.863   \n187   59198.85841  2459198.858  2459198.858  2459198.864  2459198.865   \n188   59198.85999  2459198.860  2459198.859  2459198.866  2459198.866   \n189   59198.86155  2459198.862  2459198.861  2459198.867  2459198.868   \n190   59198.86311  2459198.863  2459198.862  2459198.869  2459198.870   \n\n      AIRMASS  ...  Source_SNR_T42     Peak_T42     Mean_T42  Sky/Pixel_T42  \\\n0    2.253928  ...      299.082475  4512.563965  1157.896914     285.472491   \n1    2.220774  ...      297.420511  6221.450684  1121.196554     289.850551   \n2    2.188837  ...      301.667595  7731.132812  1125.131561     284.213165   \n3    2.157619  ...      304.611682  8611.256836  1157.772827     281.993216   \n4    2.127957  ...      307.286355  9368.106445  1131.916958     258.208797   \n..        ...  ...             ...          ...          ...            ...   \n186  2.669721  ...      259.853211  7145.149414  1416.357596     577.353247   \n187  2.720568  ...      242.892794  7353.101074  1592.313177     757.275835   \n188  2.774110  ...      221.148784  7690.790527  1846.167326    1014.879452   \n189  2.829708  ...      201.262857  8327.759766  2228.231519    1397.846239   \n190  2.887908  ...      176.794332  8639.606445  2796.213740    1978.905695   \n\n     Width_T42  X-Width_T42  Y-Width_T42   Angle_T42  Roundness_T42  \\\n0     4.576970     5.168332     3.985608   29.474130       0.757201   \n1     3.704584     3.939013     3.470154   20.758478       0.971657   \n2     3.552076     3.646856     3.457295   24.621327       0.993328   \n3     3.414058     3.377304     3.450812  282.332528       0.999439   \n4     3.382440     3.292574     3.472306  285.248395       0.996202   \n..         ...          ...          ...         ...            ...   \n186   3.791711     3.623012     3.960409  303.528104       0.948102   \n187   3.779160     3.552379     4.005941  300.783324       0.936919   \n188   3.765549     3.515265     4.015833  300.023844       0.929733   \n189   3.749140     3.538084     3.960196  301.059790       0.942397   \n190   3.777164     3.555192     3.999136  300.667387       0.940378   \n\n     Total_error  \n0       0.033857  \n1       0.033712  \n2       0.033811  \n3       0.033694  \n4       0.033816  \n..           ...  \n186     0.034976  \n187     0.034790  \n188     0.035094  \n189     0.035085  \n190     0.035115  \n\n[191 rows x 862 columns]>\n"
     ]
    }
   ],
   "source": [
    "#Adds a new column to the end of excel sheet with total error from rel_flux_T1 and scintillation noise added in quadrature\n",
    "df.insert(len(df.columns), \"Total_error\", sig_total)\n",
    "print(df.head)"
   ]
  },
  {
   "cell_type": "code",
   "execution_count": 10,
   "metadata": {},
   "outputs": [
    {
     "output_type": "error",
     "ename": "PermissionError",
     "evalue": "[Errno 13] Permission denied: 'C:\\\\Users\\\\Marissa\\\\Desktop\\\\Research\\\\Transits\\\\TMMT\\\\TOI-532\\\\20201215_TOI-532\\\\0_results\\\\5_9_14_trim_first_15_pts\\\\remove_1_outlier\\\\Processed_l20201215-084408-TOI-532-I_measurement_w_tot_error.xls'",
     "traceback": [
      "\u001b[1;31m---------------------------------------------------------------------------\u001b[0m",
      "\u001b[1;31mPermissionError\u001b[0m                           Traceback (most recent call last)",
      "\u001b[1;32m<ipython-input-10-db7530385a8b>\u001b[0m in \u001b[0;36m<module>\u001b[1;34m\u001b[0m\n\u001b[0;32m      1\u001b[0m \u001b[1;31m#Creates a new csv file with title editted to include w_tot_error\u001b[0m\u001b[1;33m\u001b[0m\u001b[1;33m\u001b[0m\u001b[1;33m\u001b[0m\u001b[0m\n\u001b[0;32m      2\u001b[0m \u001b[0mstrip_regex\u001b[0m \u001b[1;33m=\u001b[0m \u001b[0mlistToStr\u001b[0m\u001b[1;33m.\u001b[0m\u001b[0mrstrip\u001b[0m\u001b[1;33m(\u001b[0m\u001b[1;34m'.xls'\u001b[0m\u001b[1;33m)\u001b[0m\u001b[1;33m\u001b[0m\u001b[1;33m\u001b[0m\u001b[0m\n\u001b[1;32m----> 3\u001b[1;33m \u001b[0mdf\u001b[0m\u001b[1;33m.\u001b[0m\u001b[0mto_csv\u001b[0m\u001b[1;33m(\u001b[0m\u001b[0mstrip_regex\u001b[0m \u001b[1;33m+\u001b[0m\u001b[1;34m'_w_tot_error.xls'\u001b[0m\u001b[1;33m,\u001b[0m \u001b[0msep\u001b[0m\u001b[1;33m=\u001b[0m\u001b[1;34m'\\t'\u001b[0m\u001b[1;33m,\u001b[0m \u001b[0mindex\u001b[0m\u001b[1;33m=\u001b[0m\u001b[1;32mFalse\u001b[0m\u001b[1;33m)\u001b[0m\u001b[1;33m\u001b[0m\u001b[1;33m\u001b[0m\u001b[0m\n\u001b[0m",
      "\u001b[1;32m~\\anaconda3_2\\lib\\site-packages\\pandas\\core\\generic.py\u001b[0m in \u001b[0;36mto_csv\u001b[1;34m(self, path_or_buf, sep, na_rep, float_format, columns, header, index, index_label, mode, encoding, compression, quoting, quotechar, line_terminator, chunksize, date_format, doublequote, escapechar, decimal, errors, storage_options)\u001b[0m\n\u001b[0;32m   3400\u001b[0m             \u001b[0mdoublequote\u001b[0m\u001b[1;33m=\u001b[0m\u001b[0mdoublequote\u001b[0m\u001b[1;33m,\u001b[0m\u001b[1;33m\u001b[0m\u001b[1;33m\u001b[0m\u001b[0m\n\u001b[0;32m   3401\u001b[0m             \u001b[0mescapechar\u001b[0m\u001b[1;33m=\u001b[0m\u001b[0mescapechar\u001b[0m\u001b[1;33m,\u001b[0m\u001b[1;33m\u001b[0m\u001b[1;33m\u001b[0m\u001b[0m\n\u001b[1;32m-> 3402\u001b[1;33m             \u001b[0mstorage_options\u001b[0m\u001b[1;33m=\u001b[0m\u001b[0mstorage_options\u001b[0m\u001b[1;33m,\u001b[0m\u001b[1;33m\u001b[0m\u001b[1;33m\u001b[0m\u001b[0m\n\u001b[0m\u001b[0;32m   3403\u001b[0m         )\n\u001b[0;32m   3404\u001b[0m \u001b[1;33m\u001b[0m\u001b[0m\n",
      "\u001b[1;32m~\\anaconda3_2\\lib\\site-packages\\pandas\\io\\formats\\format.py\u001b[0m in \u001b[0;36mto_csv\u001b[1;34m(self, path_or_buf, encoding, sep, columns, index_label, mode, compression, quoting, quotechar, line_terminator, chunksize, date_format, doublequote, escapechar, errors, storage_options)\u001b[0m\n\u001b[0;32m   1081\u001b[0m             \u001b[0mformatter\u001b[0m\u001b[1;33m=\u001b[0m\u001b[0mself\u001b[0m\u001b[1;33m.\u001b[0m\u001b[0mfmt\u001b[0m\u001b[1;33m,\u001b[0m\u001b[1;33m\u001b[0m\u001b[1;33m\u001b[0m\u001b[0m\n\u001b[0;32m   1082\u001b[0m         )\n\u001b[1;32m-> 1083\u001b[1;33m         \u001b[0mcsv_formatter\u001b[0m\u001b[1;33m.\u001b[0m\u001b[0msave\u001b[0m\u001b[1;33m(\u001b[0m\u001b[1;33m)\u001b[0m\u001b[1;33m\u001b[0m\u001b[1;33m\u001b[0m\u001b[0m\n\u001b[0m\u001b[0;32m   1084\u001b[0m \u001b[1;33m\u001b[0m\u001b[0m\n\u001b[0;32m   1085\u001b[0m         \u001b[1;32mif\u001b[0m \u001b[0mcreated_buffer\u001b[0m\u001b[1;33m:\u001b[0m\u001b[1;33m\u001b[0m\u001b[1;33m\u001b[0m\u001b[0m\n",
      "\u001b[1;32m~\\anaconda3_2\\lib\\site-packages\\pandas\\io\\formats\\csvs.py\u001b[0m in \u001b[0;36msave\u001b[1;34m(self)\u001b[0m\n\u001b[0;32m    232\u001b[0m             \u001b[0merrors\u001b[0m\u001b[1;33m=\u001b[0m\u001b[0mself\u001b[0m\u001b[1;33m.\u001b[0m\u001b[0merrors\u001b[0m\u001b[1;33m,\u001b[0m\u001b[1;33m\u001b[0m\u001b[1;33m\u001b[0m\u001b[0m\n\u001b[0;32m    233\u001b[0m             \u001b[0mcompression\u001b[0m\u001b[1;33m=\u001b[0m\u001b[0mself\u001b[0m\u001b[1;33m.\u001b[0m\u001b[0mcompression\u001b[0m\u001b[1;33m,\u001b[0m\u001b[1;33m\u001b[0m\u001b[1;33m\u001b[0m\u001b[0m\n\u001b[1;32m--> 234\u001b[1;33m             \u001b[0mstorage_options\u001b[0m\u001b[1;33m=\u001b[0m\u001b[0mself\u001b[0m\u001b[1;33m.\u001b[0m\u001b[0mstorage_options\u001b[0m\u001b[1;33m,\u001b[0m\u001b[1;33m\u001b[0m\u001b[1;33m\u001b[0m\u001b[0m\n\u001b[0m\u001b[0;32m    235\u001b[0m         ) as handles:\n\u001b[0;32m    236\u001b[0m \u001b[1;33m\u001b[0m\u001b[0m\n",
      "\u001b[1;32m~\\anaconda3_2\\lib\\site-packages\\pandas\\io\\common.py\u001b[0m in \u001b[0;36mget_handle\u001b[1;34m(path_or_buf, mode, encoding, compression, memory_map, is_text, errors, storage_options)\u001b[0m\n\u001b[0;32m    645\u001b[0m                 \u001b[0mencoding\u001b[0m\u001b[1;33m=\u001b[0m\u001b[0mioargs\u001b[0m\u001b[1;33m.\u001b[0m\u001b[0mencoding\u001b[0m\u001b[1;33m,\u001b[0m\u001b[1;33m\u001b[0m\u001b[1;33m\u001b[0m\u001b[0m\n\u001b[0;32m    646\u001b[0m                 \u001b[0merrors\u001b[0m\u001b[1;33m=\u001b[0m\u001b[0merrors\u001b[0m\u001b[1;33m,\u001b[0m\u001b[1;33m\u001b[0m\u001b[1;33m\u001b[0m\u001b[0m\n\u001b[1;32m--> 647\u001b[1;33m                 \u001b[0mnewline\u001b[0m\u001b[1;33m=\u001b[0m\u001b[1;34m\"\"\u001b[0m\u001b[1;33m,\u001b[0m\u001b[1;33m\u001b[0m\u001b[1;33m\u001b[0m\u001b[0m\n\u001b[0m\u001b[0;32m    648\u001b[0m             )\n\u001b[0;32m    649\u001b[0m         \u001b[1;32melse\u001b[0m\u001b[1;33m:\u001b[0m\u001b[1;33m\u001b[0m\u001b[1;33m\u001b[0m\u001b[0m\n",
      "\u001b[1;31mPermissionError\u001b[0m: [Errno 13] Permission denied: 'C:\\\\Users\\\\Marissa\\\\Desktop\\\\Research\\\\Transits\\\\TMMT\\\\TOI-532\\\\20201215_TOI-532\\\\0_results\\\\5_9_14_trim_first_15_pts\\\\remove_1_outlier\\\\Processed_l20201215-084408-TOI-532-I_measurement_w_tot_error.xls'"
     ]
    }
   ],
   "source": [
    "#Creates a new csv file with title editted to include w_tot_error\n",
    "strip_regex = listToStr.rstrip('.xls')\n",
    "df.to_csv(strip_regex +'_w_tot_error.xls', sep='\\t', index=False)"
   ]
  },
  {
   "cell_type": "code",
   "execution_count": null,
   "metadata": {},
   "outputs": [],
   "source": []
  }
 ]
}